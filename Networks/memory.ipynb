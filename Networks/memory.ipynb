{
 "cells": [
  {
   "cell_type": "markdown",
   "metadata": {},
   "source": [
    "# Relational Memories\n",
    "--- \n",
    "Implementation based on details list in [Relational recurrent neural networks](https://arxiv.org/pdf/1806.01822.pdf)"
   ]
  },
  {
   "cell_type": "code",
   "execution_count": 1,
   "metadata": {},
   "outputs": [],
   "source": [
    "import math\n",
    "import torch\n",
    "import torch.nn as nn"
   ]
  },
  {
   "cell_type": "code",
   "execution_count": 2,
   "metadata": {},
   "outputs": [],
   "source": [
    "NUM_MEM = 10\n",
    "MEM_DIM = 256\n",
    "H = 8\n",
    "\n",
    "M = torch.randn(NUM_MEM,MEM_DIM)\n",
    "WQ, WK, WV = [torch.randn(H,MEM_DIM//H,MEM_DIM//H) for _ in range(3)]"
   ]
  },
  {
   "cell_type": "code",
   "execution_count": 3,
   "metadata": {},
   "outputs": [],
   "source": [
    "def split_heads(x, num_heads=8):\n",
    "    \"\"\"Split x such to add an extra num_heads dimension\"\"\"\n",
    "    if len(x.shape) != 2:\n",
    "      raise ValueError(\"Input must have rank 2\")\n",
    "    shape = x.shape\n",
    "    return x.view(shape[0], num_heads, shape[1]//num_heads).permute(0, 1, 2)"
   ]
  },
  {
   "cell_type": "markdown",
   "metadata": {},
   "source": [
    "## Allowing memories to interact using multi-head dot product attention"
   ]
  },
  {
   "cell_type": "code",
   "execution_count": 4,
   "metadata": {},
   "outputs": [],
   "source": [
    "M_h = split_heads(M,H)"
   ]
  },
  {
   "cell_type": "markdown",
   "metadata": {},
   "source": [
    "$Q = M W^{q}; Q = M W^{k}; Q = M W^{v}$  "
   ]
  },
  {
   "cell_type": "code",
   "execution_count": 5,
   "metadata": {},
   "outputs": [],
   "source": [
    "Q, K, V = [torch.einsum('hmd,shm->shd',[W,M_h]) for W in [WQ,WK,WV]]"
   ]
  },
  {
   "cell_type": "markdown",
   "metadata": {},
   "source": [
    "$A_{\\theta}(M) = softmax(\\frac{QK^{T}}{\\sqrt d_{k}})Q; \\theta = ( W^{q}, W^{k}, W^{v}) $"
   ]
  },
  {
   "cell_type": "code",
   "execution_count": 6,
   "metadata": {},
   "outputs": [],
   "source": [
    "_M_ = torch.matmul((torch.matmul(Q, K.transpose(1,2)) / math.sqrt(MEM_DIM//H)), V)\n",
    "_M_ = _M_.view(-1,MEM_DIM)"
   ]
  },
  {
   "cell_type": "markdown",
   "metadata": {},
   "source": [
    "## Encoding new memories  \n",
    "$A_{\\theta}(M) = softmax(\\frac{M W^{q} ([M;x] W^{k})^{T}}{\\sqrt d_{k}})[M;x]W^{q}; \\theta = ( W^{q}, W^{k}, W^{v}) $"
   ]
  },
  {
   "cell_type": "code",
   "execution_count": 7,
   "metadata": {},
   "outputs": [
    {
     "data": {
      "text/plain": [
       "torch.Size([10, 256])"
      ]
     },
     "execution_count": 7,
     "metadata": {},
     "output_type": "execute_result"
    }
   ],
   "source": [
    "x = torch.randn(1,MEM_DIM)\n",
    "M_x = torch.cat([M,x],dim=0)\n",
    "\n",
    "M_h_x = split_heads(M_x,H)\n",
    "M_h = split_heads(M,H)\n",
    "\n",
    "Q = torch.einsum('hmd,shm->shd',[WQ,M_h])\n",
    "K = torch.einsum('hmd,shm->shd',[WK,M_h_x])\n",
    "V = torch.einsum('hmd,shm->shd',[WV,M_h_x])\n",
    "\n",
    "_M_ = torch.einsum('sht,thf->shf',[torch.einsum('shf,thf->sht',[Q,K]) / math.sqrt(MEM_DIM//H), V])\n",
    "\n",
    "_M_ = _M_.contiguous().view(-1,MEM_DIM)\n",
    "\n",
    "_M_.shape"
   ]
  },
  {
   "cell_type": "markdown",
   "metadata": {},
   "source": [
    "# Memory Module"
   ]
  },
  {
   "cell_type": "code",
   "execution_count": 8,
   "metadata": {},
   "outputs": [],
   "source": [
    "class Memory(torch.nn.Module):\n",
    "    def __init__(self,num_mem,mem_dim,H=8):\n",
    "        super(Memory, self).__init__()\n",
    "        self.H = H\n",
    "        self.MEM_DIM = mem_dim\n",
    "        self.M = torch.randn(NUM_MEM,MEM_DIM)\n",
    "        self.WQ, self.WK, self.WV = [torch.randn(H,mem_dim//H,mem_dim//H) for _ in range(3)]\n",
    "    \n",
    "    def split_heads(x):\n",
    "        \"\"\"Split x such to add an extra num_heads dimension\"\"\"\n",
    "        return x.view(x.shape[0], self.H, x.shape[1]//self.H).permute(0, 1, 2)\n",
    "\n",
    "    def project_memory(self,W,M):\n",
    "        return torch.einsum('hmd,shm->shd',[W,M])\n",
    "    \n",
    "    def encode_memory(self,x):\n",
    "        # concatenat new input to memory matrix\n",
    "        M_x = torch.cat([self.M,x],dim=0)\n",
    "        \n",
    "        # split memory for MHDPA\n",
    "        M_h_x = split_heads(M_x)\n",
    "        M_h = split_heads(self.M)\n",
    "        \n",
    "        # MHDPA using new input\n",
    "        Q = self.project_memory(self.WQ,M_h) \n",
    "        K = self.project_memory(self.WK,M_h_x) \n",
    "        V = self.project_memory(self.WV,M_h_x) \n",
    "        \n",
    "        _M_ = torch.einsum('sht,thf->shf',[torch.einsum('shf,thf->sht',[Q,K]) / math.sqrt(MEM_DIM//H), V])\n",
    "        \n",
    "        # reshape memories\n",
    "        _M_ = _M_.contiguous().view(-1,self.MEM_DIM)\n",
    "        \n",
    "        return _M_\n",
    "    \n",
    "    def forward(self,x):\n",
    "        return self.encode_memory(x)\n",
    "        "
   ]
  },
  {
   "cell_type": "code",
   "execution_count": 9,
   "metadata": {},
   "outputs": [
    {
     "data": {
      "text/plain": [
       "torch.Size([10, 256])"
      ]
     },
     "execution_count": 9,
     "metadata": {},
     "output_type": "execute_result"
    }
   ],
   "source": [
    "mem = Memory(NUM_MEM,MEM_DIM,H)\n",
    "mem(x).shape"
   ]
  }
 ],
 "metadata": {
  "kernelspec": {
   "display_name": "Python 3",
   "language": "python",
   "name": "python3"
  },
  "language_info": {
   "codemirror_mode": {
    "name": "ipython",
    "version": 3
   },
   "file_extension": ".py",
   "mimetype": "text/x-python",
   "name": "python",
   "nbconvert_exporter": "python",
   "pygments_lexer": "ipython3",
   "version": "3.5.2"
  }
 },
 "nbformat": 4,
 "nbformat_minor": 2
}
